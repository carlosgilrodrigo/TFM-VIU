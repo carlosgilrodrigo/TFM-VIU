{
  "nbformat": 4,
  "nbformat_minor": 0,
  "metadata": {
    "colab": {
      "provenance": [],
      "toc_visible": true
    },
    "kernelspec": {
      "name": "python3",
      "display_name": "Python 3"
    },
    "language_info": {
      "name": "python"
    }
  },
  "cells": [
    {
      "cell_type": "markdown",
      "source": [
        "##Clustering"
      ],
      "metadata": {
        "id": "Uxqmj81MnWqV"
      }
    },
    {
      "cell_type": "code",
      "execution_count": null,
      "metadata": {
        "id": "Yj0a0NzIVBz2"
      },
      "outputs": [],
      "source": [
        "import pandas as pd\n",
        "import numpy as np\n",
        "import seaborn as sns\n",
        "import matplotlib.pyplot as plt\n",
        "import matplotlib.mlab as mlab\n",
        "import matplotlib"
      ]
    },
    {
      "cell_type": "code",
      "source": [
        "from google.colab import drive\n",
        "drive.mount('/content/drive')"
      ],
      "metadata": {
        "colab": {
          "base_uri": "https://localhost:8080/"
        },
        "id": "Iuw7PxKWVQvp",
        "outputId": "585a2038-7afe-4f09-941d-054b290cb18f"
      },
      "execution_count": null,
      "outputs": [
        {
          "output_type": "stream",
          "name": "stdout",
          "text": [
            "Drive already mounted at /content/drive; to attempt to forcibly remount, call drive.mount(\"/content/drive\", force_remount=True).\n"
          ]
        }
      ]
    },
    {
      "cell_type": "code",
      "source": [
        "df = pd.read_csv('/content/drive/MyDrive/TFM/Dataset y archivos iniciales/datasetSeleccionadasPreClustering.csv', decimal='.')"
      ],
      "metadata": {
        "id": "a_n9JAwrVV2v"
      },
      "execution_count": null,
      "outputs": []
    },
    {
      "cell_type": "code",
      "source": [
        "#Eliminar promedios y columnas que no se van a utilizar\n",
        "eliminacion_clumnas_menor_60 = ['id', 'home_clearances', 'home_fouls_conceded', 'home_offsides', 'home_tackles', 'away_clearances', 'away_fouls_conceded',\n",
        "                                'away_offsides', 'away_tackles', 'clearances_avg_H', 'fouls_conceded_avg_H', 'offsides_avg_H', 'tackles_avg_H',\n",
        "                                'fouls_conceded_avg_A', 'offsides_avg_A', 'tackles_avg_A']\n",
        "df.drop(eliminacion_clumnas_menor_60, axis=1, inplace=True)"
      ],
      "metadata": {
        "id": "7yG51HASVb_T"
      },
      "execution_count": null,
      "outputs": []
    },
    {
      "cell_type": "code",
      "source": [
        "import pandas as pd\n",
        "from sklearn.preprocessing import StandardScaler\n",
        "from sklearn.cluster import KMeans\n",
        "from sklearn.metrics import silhouette_score\n",
        "\n",
        "# Calcular variables defensivas\n",
        "df['home_goals_conceded'] = df['goal_away_ft']\n",
        "df['away_goals_conceded'] = df['goal_home_ft']\n",
        "df['home_shots_received'] = df['away_shots']\n",
        "df['away_shots_received'] = df['home_shots']\n",
        "df['home_shots_on_target_received'] = df['away_shots_on_target']\n",
        "df['away_shots_on_target_received'] = df['home_shots_on_target']\n",
        "\n",
        "# Concatenar los datos de local y visitante\n",
        "teams_home = df[['home_team', 'home_goals_conceded', 'home_shots_received', 'home_shots_on_target_received', 'season']]\n",
        "teams_away = df[['away_team', 'away_goals_conceded', 'away_shots_received', 'away_shots_on_target_received', 'season']].rename(columns={\n",
        "    'away_team': 'home_team',\n",
        "    'away_goals_conceded': 'home_goals_conceded',\n",
        "    'away_shots_received': 'home_shots_received',\n",
        "    'away_shots_on_target_received': 'home_shots_on_target_received'\n",
        "})\n",
        "\n",
        "teams = pd.concat([teams_home, teams_away])\n",
        "\n",
        "# Calcular el número total de partidos jugados por cada equipo\n",
        "teams['matches_played'] = 1\n",
        "total_matches = teams.groupby('home_team')['matches_played'].sum().reset_index().rename(columns={'home_team': 'team', 'matches_played': 'total_matches'})\n",
        "\n",
        "# Agrupar por equipo y sumar los valores totales\n",
        "teams_grouped = teams.groupby('home_team').agg({\n",
        "    'home_goals_conceded': 'sum',\n",
        "    'home_shots_received': 'sum',\n",
        "    'home_shots_on_target_received': 'sum',\n",
        "    'season': 'nunique'\n",
        "}).reset_index().rename(columns={\n",
        "    'home_team': 'team',\n",
        "    'home_goals_conceded': 'total_goals_conceded',\n",
        "    'home_shots_received': 'total_shots_received',\n",
        "    'home_shots_on_target_received': 'total_shots_on_target_received',\n",
        "    'season': 'seasons'\n",
        "})\n",
        "\n",
        "teams_grouped = pd.merge(teams_grouped, total_matches, on='team')\n",
        "\n",
        "# Calcular los promedios por partido\n",
        "teams_grouped['goals_conceded_per_match'] = teams_grouped['total_goals_conceded'] / teams_grouped['total_matches']\n",
        "teams_grouped['shots_received_per_match'] = teams_grouped['total_shots_received'] / teams_grouped['total_matches']\n",
        "teams_grouped['shots_on_target_received_per_match'] = teams_grouped['total_shots_on_target_received'] / teams_grouped['total_matches']\n",
        "\n",
        "# Columnas finales\n",
        "teams = teams_grouped[['team', 'goals_conceded_per_match', 'shots_received_per_match', 'shots_on_target_received_per_match', 'seasons']]\n",
        "\n",
        "scaler = StandardScaler()\n",
        "scaled_defensive_data = scaler.fit_transform(teams[['goals_conceded_per_match', 'shots_received_per_match', 'shots_on_target_received_per_match']])\n",
        "\n",
        "# KMeans con el número óptimo de clusters (3)\n",
        "kmeans = KMeans(n_clusters=3, random_state=42)\n",
        "teams['defensive_cluster'] = kmeans.fit_predict(scaled_defensive_data)\n",
        "\n",
        "cluster_reassignment = {0: 2, 1: 0, 2: 1}\n",
        "teams['defensive_cluster'] = teams['defensive_cluster'].map(cluster_reassignment)\n",
        "\n",
        "#Silhouette\n",
        "silhouette_avg = silhouette_score(scaled_defensive_data, teams['defensive_cluster'])\n",
        "\n",
        "# Asignar descripciones a los clusters\n",
        "cluster_descriptions = {\n",
        "    0: \"Defensa fuerte\",\n",
        "    1: \"Defensa promedio\",\n",
        "    2: \"Defensa débil\"\n",
        "}\n",
        "\n",
        "teams['cluster_description'] = teams['defensive_cluster'].map(cluster_descriptions)\n",
        "\n",
        "# Ordenar por `defensive_cluster`\n",
        "teams = teams.sort_values(by='defensive_cluster').reset_index(drop=True)\n",
        "\n",
        "output_path = '/content/drive/MyDrive/TFM/5. Rendimiento defensivo/defensive_clusters_descriptions_corrected_final.csv'\n",
        "teams[['team', 'goals_conceded_per_match', 'shots_received_per_match', 'shots_on_target_received_per_match', 'seasons', 'defensive_cluster', 'cluster_description']].to_csv(output_path, index=False)\n",
        "\n",
        "silhouette_avg, output_path\n"
      ],
      "metadata": {
        "colab": {
          "base_uri": "https://localhost:8080/"
        },
        "id": "TlkVX-bnrVuk",
        "outputId": "9c18bdaf-51bb-429d-ca92-0b59d5fa9d02"
      },
      "execution_count": null,
      "outputs": [
        {
          "output_type": "stream",
          "name": "stderr",
          "text": [
            "/usr/local/lib/python3.10/dist-packages/sklearn/cluster/_kmeans.py:870: FutureWarning: The default value of `n_init` will change from 10 to 'auto' in 1.4. Set the value of `n_init` explicitly to suppress the warning\n",
            "  warnings.warn(\n",
            "<ipython-input-15-b926e694ba4e>:60: SettingWithCopyWarning: \n",
            "A value is trying to be set on a copy of a slice from a DataFrame.\n",
            "Try using .loc[row_indexer,col_indexer] = value instead\n",
            "\n",
            "See the caveats in the documentation: https://pandas.pydata.org/pandas-docs/stable/user_guide/indexing.html#returning-a-view-versus-a-copy\n",
            "  teams['defensive_cluster'] = kmeans.fit_predict(scaled_defensive_data)\n",
            "<ipython-input-15-b926e694ba4e>:64: SettingWithCopyWarning: \n",
            "A value is trying to be set on a copy of a slice from a DataFrame.\n",
            "Try using .loc[row_indexer,col_indexer] = value instead\n",
            "\n",
            "See the caveats in the documentation: https://pandas.pydata.org/pandas-docs/stable/user_guide/indexing.html#returning-a-view-versus-a-copy\n",
            "  teams['defensive_cluster'] = teams['defensive_cluster'].map(cluster_reassignment)\n",
            "<ipython-input-15-b926e694ba4e>:76: SettingWithCopyWarning: \n",
            "A value is trying to be set on a copy of a slice from a DataFrame.\n",
            "Try using .loc[row_indexer,col_indexer] = value instead\n",
            "\n",
            "See the caveats in the documentation: https://pandas.pydata.org/pandas-docs/stable/user_guide/indexing.html#returning-a-view-versus-a-copy\n",
            "  teams['cluster_description'] = teams['defensive_cluster'].map(cluster_descriptions)\n"
          ]
        },
        {
          "output_type": "execute_result",
          "data": {
            "text/plain": [
              "(0.4710535686062787,\n",
              " '/content/drive/MyDrive/TFM/5. Rendimiento defensivo/defensive_clusters_descriptions_corrected_final.csv')"
            ]
          },
          "metadata": {},
          "execution_count": 15
        }
      ]
    }
  ]
}