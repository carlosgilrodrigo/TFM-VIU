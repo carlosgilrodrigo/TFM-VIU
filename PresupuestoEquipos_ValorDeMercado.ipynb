{
  "nbformat": 4,
  "nbformat_minor": 0,
  "metadata": {
    "colab": {
      "provenance": [],
      "toc_visible": true
    },
    "kernelspec": {
      "name": "python3",
      "display_name": "Python 3"
    },
    "language_info": {
      "name": "python"
    }
  },
  "cells": [
    {
      "cell_type": "markdown",
      "source": [
        "##Clustering"
      ],
      "metadata": {
        "id": "Uxqmj81MnWqV"
      }
    },
    {
      "cell_type": "code",
      "execution_count": null,
      "metadata": {
        "id": "Yj0a0NzIVBz2"
      },
      "outputs": [],
      "source": [
        "import pandas as pd\n",
        "import numpy as np\n",
        "import seaborn as sns\n",
        "import matplotlib.pyplot as plt\n",
        "import matplotlib.mlab as mlab\n",
        "import matplotlib"
      ]
    },
    {
      "cell_type": "code",
      "source": [
        "from google.colab import drive\n",
        "drive.mount('/content/drive')"
      ],
      "metadata": {
        "colab": {
          "base_uri": "https://localhost:8080/"
        },
        "id": "Iuw7PxKWVQvp",
        "outputId": "4c89ae9f-a32d-4da2-8e5f-1711e5144bee"
      },
      "execution_count": null,
      "outputs": [
        {
          "output_type": "stream",
          "name": "stdout",
          "text": [
            "Mounted at /content/drive\n"
          ]
        }
      ]
    },
    {
      "cell_type": "code",
      "source": [
        "df = pd.read_csv('/content/drive/MyDrive/TFM/Dataset y archivos iniciales/datasetSeleccionadasPreClustering.csv', decimal='.')"
      ],
      "metadata": {
        "id": "a_n9JAwrVV2v"
      },
      "execution_count": null,
      "outputs": []
    },
    {
      "cell_type": "code",
      "source": [
        "import pandas as pd\n",
        "\n",
        "# Filtrar las columnas necesarias y combinar los equipos locales y visitantes\n",
        "teams_home = df[['season', 'home_team']].rename(columns={'home_team': 'team'})\n",
        "teams_away = df[['season', 'away_team']].rename(columns={'away_team': 'team'})\n",
        "\n",
        "teams_per_season = pd.concat([teams_home, teams_away]).drop_duplicates()\n",
        "\n",
        "output_path_teams_per_season = '/content/drive/MyDrive/TFM/8. Presupuesto equipos/teams_per_season.csv'\n",
        "\n",
        "teams_per_season.to_csv(output_path_teams_per_season, index=False)\n",
        "\n",
        "print(teams_per_season.head())"
      ],
      "metadata": {
        "colab": {
          "base_uri": "https://localhost:8080/"
        },
        "id": "TlkVX-bnrVuk",
        "outputId": "c1f64f89-1292-4681-a20c-394d9a6a2501"
      },
      "execution_count": null,
      "outputs": [
        {
          "output_type": "stream",
          "name": "stdout",
          "text": [
            "  season               team\n",
            "0  10/11          blackpool\n",
            "1  10/11          liverpool\n",
            "2  10/11  manchester united\n",
            "3  10/11         stoke city\n",
            "4  10/11             fulham\n"
          ]
        }
      ]
    },
    {
      "cell_type": "code",
      "source": [
        "import pandas as pd\n",
        "\n",
        "file_path = '/content/drive/MyDrive/viu/teams_per_season_valor_mercado.csv'\n",
        "teams_per_season_valor_mercado = pd.read_csv(file_path, delimiter=';')\n",
        "\n",
        "print(teams_per_season_valor_mercado.columns)\n",
        "\n",
        "# Eliminar la columna 'season'\n",
        "if 'season' in teams_per_season_valor_mercado.columns:\n",
        "    teams_per_season_valor_mercado = teams_per_season_valor_mercado.drop(columns=['season'])\n",
        "\n",
        "# Renombrar la columna 'valor_mercado' a 'valor_mercado_avg'\n",
        "teams_per_season_valor_mercado = teams_per_season_valor_mercado.rename(columns={'valor_mercado': 'valor_mercado_avg'})\n",
        "\n",
        "# Calcular la media de 'valor_mercado_avg' para cada equipo\n",
        "teams_per_season_valor_mercado_avg = teams_per_season_valor_mercado.groupby('team')['valor_mercado_avg'].mean().reset_index()\n",
        "teams_per_season_valor_mercado_avg['valor_mercado_avg'] = teams_per_season_valor_mercado_avg['valor_mercado_avg'].round(2)\n",
        "\n",
        "# Ordenar los equipos por valor de mercado promedio de mayor a menor\n",
        "teams_per_season_valor_mercado_avg = teams_per_season_valor_mercado_avg.sort_values(by='valor_mercado_avg', ascending=False)\n",
        "\n",
        "output_path_sorted_avg = '/content/drive/MyDrive/TFM/8. Presupuesto equipos/teams_per_season_valor_mercado_avg_sorted.csv'\n",
        "teams_per_season_valor_mercado_avg.to_csv(output_path_sorted_avg, index=False)\n",
        "\n",
        "print(teams_per_season_valor_mercado_avg.head())"
      ],
      "metadata": {
        "colab": {
          "base_uri": "https://localhost:8080/"
        },
        "id": "eHenVrx91t4f",
        "outputId": "0108c537-4898-4e2f-dbde-73c67461be92"
      },
      "execution_count": null,
      "outputs": [
        {
          "output_type": "stream",
          "name": "stdout",
          "text": [
            "Index(['season', 'team', 'valor_mercado'], dtype='object')\n",
            "                 team  valor_mercado_avg\n",
            "19    manchester city             698.55\n",
            "10            chelsea             662.09\n",
            "18          liverpool             571.91\n",
            "20  manchester united             560.45\n",
            "31  tottenham hotspur             515.91\n"
          ]
        }
      ]
    },
    {
      "cell_type": "code",
      "source": [
        "import pandas as pd\n",
        "\n",
        "teams_per_season_valor_mercado_avg_sorted = pd.read_csv('/content/drive/MyDrive/TFM/8. Presupuesto equipos/teams_per_season_valor_mercado_avg_sorted.csv')\n",
        "\n",
        "file_path_clustered = '/content/drive/MyDrive/TFM/2. Locales más ganadores por capacidad/clustered_analysis_avg_points_vs_capacity_sorted.csv'\n",
        "clustered_analysis = pd.read_csv(file_path_clustered)\n",
        "\n",
        "# Renombrar la columna 'team' a 'home_team'\n",
        "teams_per_season_valor_mercado_avg_sorted = teams_per_season_valor_mercado_avg_sorted.rename(columns={'team': 'home_team'})\n",
        "\n",
        "# Fusionar los DataFrames en base a la columna 'home_team'\n",
        "merged_df = pd.merge(clustered_analysis, teams_per_season_valor_mercado_avg_sorted, on='home_team', how='left')\n",
        "\n",
        "# Ordenar el DataFrame final por 'avg_points'\n",
        "merged_df_sorted = merged_df.sort_values(by='avg_points', ascending=False)\n",
        "\n",
        "output_path_merged = '/content/drive/MyDrive/TFM/8. Presupuesto equipos/merged_clustered_analysis_with_market_value.csv'\n",
        "merged_df.to_csv(output_path_merged, index=False)\n",
        "\n",
        "print(merged_df.head())\n"
      ],
      "metadata": {
        "colab": {
          "base_uri": "https://localhost:8080/"
        },
        "id": "-oTuuQNC6FhQ",
        "outputId": "087046c2-26b1-4b0d-893c-396dc5a64b95"
      },
      "execution_count": null,
      "outputs": [
        {
          "output_type": "stream",
          "name": "stdout",
          "text": [
            "           home_team  avg_points  games_played  capacity  cluster  \\\n",
            "0    manchester city        2.46           205     55017        2   \n",
            "1  manchester united        2.17           203     74879        2   \n",
            "2            chelsea        2.14           203     40853        2   \n",
            "3            arsenal        2.12           203     60704        2   \n",
            "4          liverpool        2.10           204     60725        2   \n",
            "\n",
            "   valor_mercado_avg  \n",
            "0             698.55  \n",
            "1             560.45  \n",
            "2             662.09  \n",
            "3             487.64  \n",
            "4             571.91  \n"
          ]
        }
      ]
    },
    {
      "cell_type": "code",
      "source": [
        "# Calcular estadísticas descriptivas\n",
        "descriptive_stats = merged_df.describe()\n",
        "print(descriptive_stats)"
      ],
      "metadata": {
        "colab": {
          "base_uri": "https://localhost:8080/"
        },
        "id": "orcvpYv4_u4O",
        "outputId": "4c575b5d-f483-4f86-d631-7179fd60bfae"
      },
      "execution_count": null,
      "outputs": [
        {
          "output_type": "stream",
          "name": "stdout",
          "text": [
            "       avg_points  games_played      capacity    cluster  valor_mercado_avg\n",
            "count   37.000000     37.000000     37.000000  37.000000          37.000000\n",
            "mean     1.422432    110.000000  35198.189189   0.864865         221.824595\n",
            "std      0.384718     67.510082  14949.482245   0.787477         174.751077\n",
            "min      0.840000     13.000000  11329.000000   0.000000          46.000000\n",
            "25%      1.180000     38.000000  25586.000000   0.000000         107.000000\n",
            "50%      1.340000    109.000000  31800.000000   1.000000         154.500000\n",
            "75%      1.470000    167.000000  40853.000000   1.000000         238.000000\n",
            "max      2.460000    205.000000  74879.000000   2.000000         698.550000\n"
          ]
        }
      ]
    },
    {
      "cell_type": "code",
      "source": [
        "# Calcular la matriz de correlación\n",
        "correlation_matrix = merged_df[['capacity', 'valor_mercado_avg', 'avg_points', 'games_played']].corr()\n",
        "print(correlation_matrix)"
      ],
      "metadata": {
        "colab": {
          "base_uri": "https://localhost:8080/"
        },
        "id": "jkKSEncx_4uU",
        "outputId": "90fc8951-c1b3-4303-ae6c-9a631fffced7"
      },
      "execution_count": null,
      "outputs": [
        {
          "output_type": "stream",
          "name": "stdout",
          "text": [
            "                   capacity  valor_mercado_avg  avg_points  games_played\n",
            "capacity           1.000000           0.719698    0.693551      0.659338\n",
            "valor_mercado_avg  0.719698           1.000000    0.925630      0.717950\n",
            "avg_points         0.693551           0.925630    1.000000      0.765794\n",
            "games_played       0.659338           0.717950    0.765794      1.000000\n"
          ]
        }
      ]
    },
    {
      "cell_type": "code",
      "source": [
        "import statsmodels.api as sm\n",
        "\n",
        "# Variables independientes y dependientes\n",
        "X = merged_df[['capacity', 'valor_mercado_avg']]\n",
        "y = merged_df['avg_points']\n",
        "\n",
        "X = sm.add_constant(X)\n",
        "\n",
        "# Ajustar el modelo de regresión lineal\n",
        "model = sm.OLS(y, X).fit()\n",
        "\n",
        "print(model.summary())"
      ],
      "metadata": {
        "colab": {
          "base_uri": "https://localhost:8080/"
        },
        "id": "1G7pN88CACio",
        "outputId": "bb41919f-a297-4d44-d142-e690a97f99bc"
      },
      "execution_count": null,
      "outputs": [
        {
          "output_type": "stream",
          "name": "stdout",
          "text": [
            "                            OLS Regression Results                            \n",
            "==============================================================================\n",
            "Dep. Variable:             avg_points   R-squared:                       0.858\n",
            "Model:                            OLS   Adj. R-squared:                  0.850\n",
            "Method:                 Least Squares   F-statistic:                     103.0\n",
            "Date:                Wed, 26 Jun 2024   Prob (F-statistic):           3.72e-15\n",
            "Time:                        23:35:00   Log-Likelihood:                 19.506\n",
            "No. Observations:                  37   AIC:                            -33.01\n",
            "Df Residuals:                      34   BIC:                            -28.18\n",
            "Df Model:                           2                                         \n",
            "Covariance Type:            nonrobust                                         \n",
            "=====================================================================================\n",
            "                        coef    std err          t      P>|t|      [0.025      0.975]\n",
            "-------------------------------------------------------------------------------------\n",
            "const                 0.9389      0.065     14.403      0.000       0.806       1.071\n",
            "capacity           1.462e-06   2.39e-06      0.611      0.545    -3.4e-06    6.32e-06\n",
            "valor_mercado_avg     0.0019      0.000      9.517      0.000       0.002       0.002\n",
            "==============================================================================\n",
            "Omnibus:                        1.542   Durbin-Watson:                   1.357\n",
            "Prob(Omnibus):                  0.463   Jarque-Bera (JB):                0.820\n",
            "Skew:                          -0.348   Prob(JB):                        0.664\n",
            "Kurtosis:                       3.217   Cond. No.                     1.02e+05\n",
            "==============================================================================\n",
            "\n",
            "Notes:\n",
            "[1] Standard Errors assume that the covariance matrix of the errors is correctly specified.\n",
            "[2] The condition number is large, 1.02e+05. This might indicate that there are\n",
            "strong multicollinearity or other numerical problems.\n"
          ]
        }
      ]
    },
    {
      "cell_type": "code",
      "source": [
        "# Equipos exitosos\n",
        "successful_teams = merged_df[merged_df['avg_points'] > merged_df['avg_points'].mean()]\n",
        "print(\"Equipos exitosos:\\n\", successful_teams[['home_team', 'avg_points', 'valor_mercado_avg', 'capacity']])\n",
        "\n",
        "# Equipos poco exitosos\n",
        "unsuccessful_teams = merged_df[merged_df['avg_points'] < merged_df['avg_points'].mean()]\n",
        "print(\"Equipos poco exitosos:\\n\", unsuccessful_teams[['home_team', 'avg_points', 'valor_mercado_avg', 'capacity']])\n",
        "\n",
        "# Equipos sorprendentes\n",
        "surprising_teams = merged_df[((merged_df['valor_mercado_avg'] < merged_df['valor_mercado_avg'].mean()) &\n",
        "                              (merged_df['avg_points'] > merged_df['avg_points'].mean())) |\n",
        "                             ((merged_df['capacity'] < merged_df['capacity'].mean()) &\n",
        "                              (merged_df['avg_points'] > merged_df['avg_points'].mean()))]\n",
        "\n",
        "surprising_teams = surprising_teams.head(8)\n",
        "print(\"Equipos sorprendentes:\\n\", surprising_teams[['home_team', 'avg_points', 'valor_mercado_avg', 'capacity']])\n",
        "\n",
        "print(\"Equipos exitosos destacados:\\n\", successful_teams[['home_team', 'avg_points', 'valor_mercado_avg', 'capacity']].head(4))\n",
        "print(\"Equipos poco exitosos destacados:\\n\", unsuccessful_teams[['home_team', 'avg_points', 'valor_mercado_avg', 'capacity']].head(4))\n",
        "print(\"Equipos sorprendentes destacados:\\n\", surprising_teams[['home_team', 'avg_points', 'valor_mercado_avg', 'capacity']])"
      ],
      "metadata": {
        "colab": {
          "base_uri": "https://localhost:8080/"
        },
        "id": "PjvM0FEbAJlI",
        "outputId": "0a0d795f-7f07-4f9e-9d69-062ceb11bee8"
      },
      "execution_count": null,
      "outputs": [
        {
          "output_type": "stream",
          "name": "stdout",
          "text": [
            "Equipos exitosos:\n",
            "             home_team  avg_points  valor_mercado_avg  capacity\n",
            "0     manchester city        2.46             698.55     55017\n",
            "1   manchester united        2.17             560.45     74879\n",
            "2             chelsea        2.14             662.09     40853\n",
            "3             arsenal        2.12             487.64     60704\n",
            "4           liverpool        2.10             571.91     60725\n",
            "5   tottenham hotspur        2.04             515.91     62850\n",
            "6             everton        1.78             299.09     39571\n",
            "7     west ham united        1.47             221.90     62500\n",
            "8    newcastle united        1.45             195.10     52338\n",
            "9      leicester city        1.67             301.00     32273\n",
            "10         stoke city        1.55             127.50     30089\n",
            "11       swansea city        1.43             129.43     21088\n",
            "Equipos poco exitosos:\n",
            "                    home_team  avg_points  valor_mercado_avg  capacity\n",
            "12               southampton        1.41             223.22     32384\n",
            "13   wolverhampton wanderers        1.39             247.00     32050\n",
            "14                   watford        1.37             189.60     21577\n",
            "15                   burnley        1.34             137.00     21994\n",
            "16           afc bournemouth        1.34             191.60     11329\n",
            "17                    fulham        1.28             154.50     25700\n",
            "18              norwich city        1.26              96.60     27244\n",
            "19      west bromwich albion        1.25             108.89     26850\n",
            "20            crystal palace        1.19             177.88     26047\n",
            "21                sunderland        1.15             123.57     48707\n",
            "22               aston villa        1.13             180.00     42682\n",
            "23           birmingham city        1.37              95.00     29409\n",
            "24          bolton wanderers        1.34              95.00     28723\n",
            "25              leeds united        1.31             238.00     37890\n",
            "26                 hull city        1.28             107.00     25586\n",
            "27          sheffield united        1.26             144.50     32702\n",
            "28          blackburn rovers        1.24              86.00     31367\n",
            "29  brighton and hove albion        1.18             208.25     31800\n",
            "30       queens park rangers        1.11             104.33     18360\n",
            "31            wigan athletic        1.11              82.00     25138\n",
            "32              cardiff city        1.05             100.50     33280\n",
            "33                   reading        1.05              46.00     24161\n",
            "34                 blackpool        1.05              50.00     16220\n",
            "35             middlesbrough        0.95             129.00     33746\n",
            "36         huddersfield town        0.84             121.50     24500\n",
            "Equipos sorprendentes:\n",
            "            home_team  avg_points  valor_mercado_avg  capacity\n",
            "8   newcastle united        1.45             195.10     52338\n",
            "9     leicester city        1.67             301.00     32273\n",
            "10        stoke city        1.55             127.50     30089\n",
            "11      swansea city        1.43             129.43     21088\n",
            "Equipos exitosos destacados:\n",
            "            home_team  avg_points  valor_mercado_avg  capacity\n",
            "0    manchester city        2.46             698.55     55017\n",
            "1  manchester united        2.17             560.45     74879\n",
            "2            chelsea        2.14             662.09     40853\n",
            "3            arsenal        2.12             487.64     60704\n",
            "Equipos poco exitosos destacados:\n",
            "                   home_team  avg_points  valor_mercado_avg  capacity\n",
            "12              southampton        1.41             223.22     32384\n",
            "13  wolverhampton wanderers        1.39             247.00     32050\n",
            "14                  watford        1.37             189.60     21577\n",
            "15                  burnley        1.34             137.00     21994\n",
            "Equipos sorprendentes destacados:\n",
            "            home_team  avg_points  valor_mercado_avg  capacity\n",
            "8   newcastle united        1.45             195.10     52338\n",
            "9     leicester city        1.67             301.00     32273\n",
            "10        stoke city        1.55             127.50     30089\n",
            "11      swansea city        1.43             129.43     21088\n"
          ]
        }
      ]
    },
    {
      "cell_type": "markdown",
      "source": [
        "## Regresión lineal"
      ],
      "metadata": {
        "id": "gcFioxSgnnOa"
      }
    },
    {
      "cell_type": "code",
      "source": [
        "import pandas as pd\n",
        "import statsmodels.api as sm\n",
        "\n",
        "# Archivo con los valores de mercado y el rendimiento de los equipos\n",
        "file_path = '/content/drive/MyDrive/TFM/8. Presupuesto equipos/merged_clustered_analysis_with_market_value.csv'\n",
        "merged_df = pd.read_csv(file_path)\n",
        "\n",
        "# Equipos que permanecen en la liga\n",
        "teams_to_keep = [\n",
        "    'arsenal', 'aston villa', 'brighton and hove albion', 'burnley', 'chelsea',\n",
        "    'crystal palace', 'everton', 'leeds united', 'leicester city', 'liverpool',\n",
        "    'manchester city', 'manchester united', 'newcastle united', 'southampton',\n",
        "    'tottenham hotspur', 'west ham united', 'wolverhampton wanderers'\n",
        "]\n",
        "\n",
        "# Datos para los equipos ascendidos (Norwich City, Watford, Brentford)\n",
        "new_teams_data = {\n",
        "    'team': ['norwich city', 'watford', 'brentford'],\n",
        "    'capacity': [27244, 21577, 17250],\n",
        "    'valor_mercado_avg': [96.60, 189.60, 130.00],\n",
        "    'avg_points': [1.26, 1.37, 1.30]\n",
        "}\n",
        "\n",
        "new_teams_df = pd.DataFrame(new_teams_data)\n",
        "\n",
        "# Filtrar los equipos que permanecen en la liga\n",
        "teams_remaining = merged_df[merged_df['home_team'].isin(teams_to_keep)]\n",
        "teams_remaining = teams_remaining[['home_team', 'capacity', 'valor_mercado_avg', 'avg_points']]\n",
        "\n",
        "teams_remaining = teams_remaining.rename(columns={'home_team': 'team'})\n",
        "\n",
        "# Combinar los datos de los equipos restantes y los equipos ascendidos\n",
        "all_teams_df = pd.concat([teams_remaining, new_teams_df], ignore_index=True)\n",
        "\n",
        "# Definir las variables dependientes e independientes\n",
        "X = all_teams_df[['capacity', 'valor_mercado_avg']]\n",
        "y = all_teams_df['avg_points']\n",
        "\n",
        "X = sm.add_constant(X)\n",
        "\n",
        "# Ajustar el modelo de regresión lineal\n",
        "model = sm.OLS(y, X).fit()\n",
        "\n",
        "# Predecir los puntos para la temporada 21/22\n",
        "all_teams_df['points'] = model.predict(X)\n",
        "\n",
        "# Calcular points_home como la media de puntos de cada home_team multiplicada por 19\n",
        "all_teams_df['points_home'] = all_teams_df['avg_points'] * 19\n",
        "\n",
        "# Ordenar los equipos por puntos en orden descendente para determinar la posición\n",
        "all_teams_df = all_teams_df.sort_values(by='points', ascending=False).reset_index(drop=True)\n",
        "\n",
        "# Añadir la columna de posición\n",
        "all_teams_df['position'] = all_teams_df.index + 1\n",
        "\n",
        "final_df = all_teams_df[['position', 'team', 'points', 'points_home']]\n",
        "output_path = '/content/drive/MyDrive/TFM/8. Presupuesto equipos/predicted_premier_league_21_22.csv'\n",
        "final_df.to_csv(output_path, index=False)\n",
        "\n",
        "print(final_df.head())\n"
      ],
      "metadata": {
        "colab": {
          "base_uri": "https://localhost:8080/"
        },
        "id": "MdKuhuZQEgzY",
        "outputId": "fe78d344-0e61-4a2d-8356-4e0bb74b7671"
      },
      "execution_count": null,
      "outputs": [
        {
          "output_type": "stream",
          "name": "stdout",
          "text": [
            "   position               team    points  points_home\n",
            "0         1    manchester city  2.382208        46.74\n",
            "1         2            chelsea  2.281927        40.66\n",
            "2         3  manchester united  2.155625        41.23\n",
            "3         4          liverpool  2.148356        39.90\n",
            "4         5  tottenham hotspur  2.044115        38.76\n"
          ]
        }
      ]
    },
    {
      "cell_type": "code",
      "source": [
        "import pandas as pd\n",
        "\n",
        "# Archivo con la predicción de puntos\n",
        "predicted_file_path = '/content/drive/MyDrive/TFM/8. Presupuesto equipos/predicted_premier_league_21_22.csv'\n",
        "predicted_df = pd.read_csv(predicted_file_path)\n",
        "\n",
        "real_data = {\n",
        "    'position': [1, 2, 3, 4, 5, 6, 7, 8, 9, 10, 11, 12, 13, 14, 15, 16, 17, 18, 19, 20],\n",
        "    'team': [\n",
        "        'liverpool', 'manchester city', 'arsenal', 'tottenham hotspur', 'manchester united', 'chelsea',\n",
        "        'leicester city', 'west ham united', 'newcastle united', 'crystal palace', 'everton',\n",
        "        'southampton', 'brentford', 'wolverhampton wanderers', 'aston villa', 'brighton and hove albion',\n",
        "        'burnley', 'leeds united', 'norwich city', 'watford'\n",
        "    ],\n",
        "    'points': [49, 47, 41, 40, 35, 34, 34, 32, 30, 29, 29, 25, 24, 24, 23, 22, 21, 18, 12, 8]\n",
        "}\n",
        "\n",
        "real_df = pd.DataFrame(real_data)\n",
        "\n",
        "# Comparar los datos predichos con los reales\n",
        "comparison_df = pd.merge(predicted_df, real_df, on='team', suffixes=('_predicted', '_real'))\n",
        "\n",
        "# Calcular la diferencia entre puntos predichos y reales\n",
        "comparison_df['points_difference'] = comparison_df['points_home'] - comparison_df['points_real']\n",
        "\n",
        "print(comparison_df)\n"
      ],
      "metadata": {
        "colab": {
          "base_uri": "https://localhost:8080/"
        },
        "id": "YZ1xI2XfH7bD",
        "outputId": "7a6928a2-7309-4bfb-8f0f-fded11c37979"
      },
      "execution_count": null,
      "outputs": [
        {
          "output_type": "stream",
          "name": "stdout",
          "text": [
            "    position_predicted                      team  points_predicted  \\\n",
            "0                    1           manchester city          2.382208   \n",
            "1                    2                   chelsea          2.281927   \n",
            "2                    3         manchester united          2.155625   \n",
            "3                    4                 liverpool          2.148356   \n",
            "4                    5         tottenham hotspur          2.044115   \n",
            "5                    6                   arsenal          1.984782   \n",
            "6                    7                   everton          1.574834   \n",
            "7                    8            leicester city          1.563326   \n",
            "8                    9           west ham united          1.472843   \n",
            "9                   10   wolverhampton wanderers          1.458071   \n",
            "10                  11              leeds united          1.452781   \n",
            "11                  12               southampton          1.412621   \n",
            "12                  13          newcastle united          1.399652   \n",
            "13                  14  brighton and hove albion          1.382353   \n",
            "14                  15               aston villa          1.350219   \n",
            "15                  16                   watford          1.324850   \n",
            "16                  17            crystal palace          1.311425   \n",
            "17                  18                   burnley          1.223646   \n",
            "18                  19                 brentford          1.200172   \n",
            "19                  20              norwich city          1.156193   \n",
            "\n",
            "    points_home  position_real  points_real  points_difference  \n",
            "0         46.74              2           47              -0.26  \n",
            "1         40.66              6           34               6.66  \n",
            "2         41.23              5           35               6.23  \n",
            "3         39.90              1           49              -9.10  \n",
            "4         38.76              4           40              -1.24  \n",
            "5         40.28              3           41              -0.72  \n",
            "6         33.82             11           29               4.82  \n",
            "7         31.73              7           34              -2.27  \n",
            "8         27.93              8           32              -4.07  \n",
            "9         26.41             14           24               2.41  \n",
            "10        24.89             18           18               6.89  \n",
            "11        26.79             12           25               1.79  \n",
            "12        27.55              9           30              -2.45  \n",
            "13        22.42             16           22               0.42  \n",
            "14        21.47             15           23              -1.53  \n",
            "15        26.03             20            8              18.03  \n",
            "16        22.61             10           29              -6.39  \n",
            "17        25.46             17           21               4.46  \n",
            "18        24.70             13           24               0.70  \n",
            "19        23.94             19           12              11.94  \n"
          ]
        }
      ]
    },
    {
      "cell_type": "code",
      "source": [
        "import pandas as pd\n",
        "import statsmodels.api as sm\n",
        "\n",
        "# Archivo con los valores de mercado y el rendimiento de los equipos\n",
        "file_path = '/content/drive/MyDrive/TFM/8. Presupuesto equipos/merged_clustered_analysis_with_market_value.csv'\n",
        "merged_df = pd.read_csv(file_path)\n",
        "\n",
        "# Equipos que permanecen en la liga\n",
        "teams_to_keep = [\n",
        "    'arsenal', 'aston villa', 'brighton and hove albion', 'burnley', 'chelsea',\n",
        "    'crystal palace', 'everton', 'leeds united', 'leicester city', 'liverpool',\n",
        "    'manchester city', 'manchester united', 'newcastle united', 'southampton',\n",
        "    'tottenham hotspur', 'west ham united', 'wolverhampton wanderers'\n",
        "]\n",
        "\n",
        "# Datos para los equipos ascendidos (Norwich City, Watford, Brentford)\n",
        "new_teams_data = {\n",
        "    'team': ['norwich city', 'watford', 'brentford'],\n",
        "    'capacity': [27244, 21577, 17250],\n",
        "    'avg_points': [1.26, 1.37, 1.30]\n",
        "}\n",
        "\n",
        "new_teams_df = pd.DataFrame(new_teams_data)\n",
        "\n",
        "# Filtrar los equipos que permanecen en la liga\n",
        "teams_remaining = merged_df[merged_df['home_team'].isin(teams_to_keep)]\n",
        "teams_remaining = teams_remaining[['home_team', 'capacity', 'avg_points']]\n",
        "\n",
        "teams_remaining = teams_remaining.rename(columns={'home_team': 'team'})\n",
        "\n",
        "# Combinar los datos de los equipos restantes y los equipos ascendidos\n",
        "all_teams_df = pd.concat([teams_remaining, new_teams_df], ignore_index=True)\n",
        "\n",
        "# Definir las variables dependientes e independientes\n",
        "X = all_teams_df[['capacity']]\n",
        "y = all_teams_df['avg_points']\n",
        "\n",
        "X = sm.add_constant(X)\n",
        "\n",
        "# Modelo de regresión lineal\n",
        "model = sm.OLS(y, X).fit()\n",
        "\n",
        "# Predecir los puntos para la temporada 21/22\n",
        "all_teams_df['points'] = model.predict(X)\n",
        "\n",
        "# Calcular points_home como la media de puntos de cada home_team multiplicada por 19\n",
        "all_teams_df['points_home'] = all_teams_df['avg_points'] * 19\n",
        "\n",
        "# Ordenar los equipos por puntos en orden descendente para determinar la posición\n",
        "all_teams_df = all_teams_df.sort_values(by='points', ascending=False).reset_index(drop=True)\n",
        "\n",
        "# Añadir la columna de posición\n",
        "all_teams_df['position'] = all_teams_df.index + 1\n",
        "\n",
        "final_df = all_teams_df[['position', 'team', 'points', 'points_home']]\n",
        "output_path = '/content/drive/MyDrive/TFM/8. Presupuesto equipos/predicted_premier_league_21_22_capacity_only.csv'\n",
        "final_df.to_csv(output_path, index=False)\n",
        "\n",
        "print(final_df.head())\n"
      ],
      "metadata": {
        "colab": {
          "base_uri": "https://localhost:8080/"
        },
        "id": "uvvxfv6n5kAo",
        "outputId": "c9046517-48c5-4e6e-be9a-1e9045953347"
      },
      "execution_count": null,
      "outputs": [
        {
          "output_type": "stream",
          "name": "stdout",
          "text": [
            "   position               team    points  points_home\n",
            "0         1  manchester united  2.188397        41.23\n",
            "1         2  tottenham hotspur  1.980580        38.76\n",
            "2         3    west ham united  1.974533        27.93\n",
            "3         4          liverpool  1.943868        39.90\n",
            "4         5            arsenal  1.943505        40.28\n"
          ]
        }
      ]
    },
    {
      "cell_type": "code",
      "source": [
        "import pandas as pd\n",
        "\n",
        "# Archivo con la predicción de puntos\n",
        "predicted_file_path = '/content/drive/MyDrive/TFM/8. Presupuesto equipos/predicted_premier_league_21_22_capacity_only.csv'\n",
        "predicted_df = pd.read_csv(predicted_file_path)\n",
        "\n",
        "real_data = {\n",
        "    'position': [1, 2, 3, 4, 5, 6, 7, 8, 9, 10, 11, 12, 13, 14, 15, 16, 17, 18, 19, 20],\n",
        "    'team': [\n",
        "        'liverpool', 'manchester city', 'arsenal', 'tottenham hotspur', 'manchester united', 'chelsea',\n",
        "        'leicester city', 'west ham united', 'newcastle united', 'crystal palace', 'everton',\n",
        "        'southampton', 'brentford', 'wolverhampton wanderers', 'aston villa', 'brighton and hove albion',\n",
        "        'burnley', 'leeds united', 'norwich city', 'watford'\n",
        "    ],\n",
        "    'points': [49, 47, 41, 40, 35, 34, 34, 32, 30, 29, 29, 25, 24, 24, 23, 22, 21, 18, 12, 8]\n",
        "}\n",
        "\n",
        "real_df = pd.DataFrame(real_data)\n",
        "\n",
        "# Comparar los datos predichos con los reales\n",
        "comparison_df = pd.merge(predicted_df, real_df, on='team', suffixes=('_predicted', '_real'))\n",
        "\n",
        "# Calcular la diferencia entre puntos predichos y reales\n",
        "comparison_df['points_difference'] = comparison_df['points_home'] - comparison_df['points_real']\n",
        "\n",
        "print(comparison_df)\n"
      ],
      "metadata": {
        "colab": {
          "base_uri": "https://localhost:8080/"
        },
        "id": "b3pP2uqy7Ho_",
        "outputId": "e7ae0bdc-3569-4d39-dde3-bcf7110531c6"
      },
      "execution_count": null,
      "outputs": [
        {
          "output_type": "stream",
          "name": "stdout",
          "text": [
            "    position_predicted                      team  points_predicted  \\\n",
            "0                    1         manchester united          2.188397   \n",
            "1                    2         tottenham hotspur          1.980580   \n",
            "2                    3           west ham united          1.974533   \n",
            "3                    4                 liverpool          1.943868   \n",
            "4                    5                   arsenal          1.943505   \n",
            "5                    6           manchester city          1.845254   \n",
            "6                    7          newcastle united          1.798971   \n",
            "7                    8               aston villa          1.632151   \n",
            "8                    9                   chelsea          1.600552   \n",
            "9                   10                   everton          1.578404   \n",
            "10                  11              leeds united          1.549362   \n",
            "11                  12               southampton          1.454239   \n",
            "12                  13            leicester city          1.452321   \n",
            "13                  14   wolverhampton wanderers          1.448468   \n",
            "14                  15  brighton and hove albion          1.444149   \n",
            "15                  16              norwich city          1.365438   \n",
            "16                  17            crystal palace          1.344759   \n",
            "17                  18                   burnley          1.274737   \n",
            "18                  19                   watford          1.267533   \n",
            "19                  20                 brentford          1.192779   \n",
            "\n",
            "    points_home  position_real  points_real  points_difference  \n",
            "0         41.23              5           35               6.23  \n",
            "1         38.76              4           40              -1.24  \n",
            "2         27.93              8           32              -4.07  \n",
            "3         39.90              1           49              -9.10  \n",
            "4         40.28              3           41              -0.72  \n",
            "5         46.74              2           47              -0.26  \n",
            "6         27.55              9           30              -2.45  \n",
            "7         21.47             15           23              -1.53  \n",
            "8         40.66              6           34               6.66  \n",
            "9         33.82             11           29               4.82  \n",
            "10        24.89             18           18               6.89  \n",
            "11        26.79             12           25               1.79  \n",
            "12        31.73              7           34              -2.27  \n",
            "13        26.41             14           24               2.41  \n",
            "14        22.42             16           22               0.42  \n",
            "15        23.94             19           12              11.94  \n",
            "16        22.61             10           29              -6.39  \n",
            "17        25.46             17           21               4.46  \n",
            "18        26.03             20            8              18.03  \n",
            "19        24.70             13           24               0.70  \n"
          ]
        }
      ]
    },
    {
      "cell_type": "code",
      "source": [
        "import pandas as pd\n",
        "import statsmodels.api as sm\n",
        "\n",
        "# Archivo con los valores de mercado y el rendimiento de los equipos\n",
        "file_path = '/content/drive/MyDrive/TFM/8. Presupuesto equipos/merged_clustered_analysis_with_market_value.csv'\n",
        "merged_df = pd.read_csv(file_path)\n",
        "\n",
        "# Equipos que permanecen en la liga\n",
        "teams_to_keep = [\n",
        "    'arsenal', 'aston villa', 'brighton and hove albion', 'burnley', 'chelsea',\n",
        "    'crystal palace', 'everton', 'leeds united', 'leicester city', 'liverpool',\n",
        "    'manchester city', 'manchester united', 'newcastle united', 'southampton',\n",
        "    'tottenham hotspur', 'west ham united', 'wolverhampton wanderers'\n",
        "]\n",
        "\n",
        "# Datos para los equipos ascendidos (Norwich City, Watford, Brentford)\n",
        "new_teams_data = {\n",
        "    'team': ['norwich city', 'watford', 'brentford'],\n",
        "    'valor_mercado_avg': [120.0, 100.0, 50.0],\n",
        "    'avg_points': [1.26, 1.37, 1.30]\n",
        "}\n",
        "\n",
        "new_teams_df = pd.DataFrame(new_teams_data)\n",
        "\n",
        "# Filtrar los equipos que permanecen en la liga\n",
        "teams_remaining = merged_df[merged_df['home_team'].isin(teams_to_keep)]\n",
        "teams_remaining = teams_remaining[['home_team', 'valor_mercado_avg', 'avg_points']]\n",
        "\n",
        "teams_remaining = teams_remaining.rename(columns={'home_team': 'team'})\n",
        "\n",
        "# Combinar los datos de los equipos restantes y los equipos ascendidos\n",
        "all_teams_df = pd.concat([teams_remaining, new_teams_df], ignore_index=True)\n",
        "\n",
        "# Definir las variables dependientes e independientes\n",
        "X = all_teams_df[['valor_mercado_avg']]\n",
        "y = all_teams_df['avg_points']\n",
        "\n",
        "X = sm.add_constant(X)\n",
        "\n",
        "# Modelo de regresión lineal\n",
        "model = sm.OLS(y, X).fit()\n",
        "\n",
        "# Predecir los puntos para la temporada 21/22\n",
        "all_teams_df['points'] = model.predict(X)\n",
        "\n",
        "# Calcular points_home como la media de puntos de cada home_team multiplicada por 19\n",
        "all_teams_df['points_home'] = all_teams_df['avg_points'] * 19\n",
        "\n",
        "# Ordenar los equipos por puntos en orden descendente para determinar la posición\n",
        "all_teams_df = all_teams_df.sort_values(by='points', ascending=False).reset_index(drop=True)\n",
        "\n",
        "# Añadir la columna de posición\n",
        "all_teams_df['position'] = all_teams_df.index + 1\n",
        "\n",
        "final_df = all_teams_df[['position', 'team', 'points', 'points_home']]\n",
        "output_path = '/content/drive/MyDrive/TFM/8. Presupuesto equipos/predicted_premier_league_21_22_market_value_only.csv'\n",
        "final_df.to_csv(output_path, index=False)\n",
        "\n",
        "print(final_df.head())\n"
      ],
      "metadata": {
        "colab": {
          "base_uri": "https://localhost:8080/"
        },
        "id": "ueIuzmzP71dt",
        "outputId": "a8881e32-5eb2-41fd-d806-7f2d57109ebd"
      },
      "execution_count": null,
      "outputs": [
        {
          "output_type": "stream",
          "name": "stdout",
          "text": [
            "   position               team    points  points_home\n",
            "0         1    manchester city  2.376172        46.74\n",
            "1         2            chelsea  2.304699        40.66\n",
            "2         3          liverpool  2.127918        39.90\n",
            "3         4  manchester united  2.105452        41.23\n",
            "4         5  tottenham hotspur  2.018140        38.76\n"
          ]
        }
      ]
    },
    {
      "cell_type": "code",
      "source": [
        "import pandas as pd\n",
        "\n",
        "# Archivo con la predicción de puntos\n",
        "predicted_file_path = '/content/drive/MyDrive/TFM/8. Presupuesto equipos/predicted_premier_league_21_22_market_value_only.csv'\n",
        "predicted_df = pd.read_csv(predicted_file_path)\n",
        "\n",
        "real_data = {\n",
        "    'position': [1, 2, 3, 4, 5, 6, 7, 8, 9, 10, 11, 12, 13, 14, 15, 16, 17, 18, 19, 20],\n",
        "    'team': [\n",
        "        'liverpool', 'manchester city', 'arsenal', 'tottenham hotspur', 'manchester united', 'chelsea',\n",
        "        'leicester city', 'west ham united', 'newcastle united', 'crystal palace', 'everton',\n",
        "        'southampton', 'brentford', 'wolverhampton wanderers', 'aston villa', 'brighton and hove albion',\n",
        "        'burnley', 'leeds united', 'norwich city', 'watford'\n",
        "    ],\n",
        "    'points': [49, 47, 41, 40, 35, 34, 34, 32, 30, 29, 29, 25, 24, 24, 23, 22, 21, 18, 12, 8]\n",
        "}\n",
        "\n",
        "real_df = pd.DataFrame(real_data)\n",
        "\n",
        "# Comparar los datos predichos con los reales\n",
        "comparison_df = pd.merge(predicted_df, real_df, on='team', suffixes=('_predicted', '_real'))\n",
        "\n",
        "# Calcular la diferencia entre puntos predichos y reales\n",
        "comparison_df['points_difference'] = comparison_df['points_home'] - comparison_df['points_real']\n",
        "\n",
        "print(comparison_df)"
      ],
      "metadata": {
        "colab": {
          "base_uri": "https://localhost:8080/"
        },
        "id": "vFyi0HT17949",
        "outputId": "52e8d201-be5c-4778-c4df-f0fb3485cfee"
      },
      "execution_count": null,
      "outputs": [
        {
          "output_type": "stream",
          "name": "stdout",
          "text": [
            "    position_predicted                      team  points_predicted  \\\n",
            "0                    1           manchester city          2.376172   \n",
            "1                    2                   chelsea          2.304699   \n",
            "2                    3                 liverpool          2.127918   \n",
            "3                    4         manchester united          2.105452   \n",
            "4                    5         tottenham hotspur          2.018140   \n",
            "5                    6                   arsenal          1.962722   \n",
            "6                    7            leicester city          1.596848   \n",
            "7                    8                   everton          1.593104   \n",
            "8                    9   wolverhampton wanderers          1.490991   \n",
            "9                   10              leeds united          1.473348   \n",
            "10                  11               southampton          1.444375   \n",
            "11                  12           west ham united          1.441787   \n",
            "12                  13  brighton and hove albion          1.415029   \n",
            "13                  14          newcastle united          1.389251   \n",
            "14                  15               aston villa          1.359650   \n",
            "15                  16            crystal palace          1.355494   \n",
            "16                  17                   burnley          1.275356   \n",
            "17                  18              norwich city          1.242031   \n",
            "18                  19                   watford          1.202825   \n",
            "19                  20                 brentford          1.104809   \n",
            "\n",
            "    points_home  position_real  points_real  points_difference  \n",
            "0         46.74              2           47              -0.26  \n",
            "1         40.66              6           34               6.66  \n",
            "2         39.90              1           49              -9.10  \n",
            "3         41.23              5           35               6.23  \n",
            "4         38.76              4           40              -1.24  \n",
            "5         40.28              3           41              -0.72  \n",
            "6         31.73              7           34              -2.27  \n",
            "7         33.82             11           29               4.82  \n",
            "8         26.41             14           24               2.41  \n",
            "9         24.89             18           18               6.89  \n",
            "10        26.79             12           25               1.79  \n",
            "11        27.93              8           32              -4.07  \n",
            "12        22.42             16           22               0.42  \n",
            "13        27.55              9           30              -2.45  \n",
            "14        21.47             15           23              -1.53  \n",
            "15        22.61             10           29              -6.39  \n",
            "16        25.46             17           21               4.46  \n",
            "17        23.94             19           12              11.94  \n",
            "18        26.03             20            8              18.03  \n",
            "19        24.70             13           24               0.70  \n"
          ]
        }
      ]
    },
    {
      "cell_type": "code",
      "source": [
        "#R² (Coeficiente de Determinación)\n",
        "\n",
        "# Ajuste del modelo basado en valor de mercado\n",
        "X_market = sm.add_constant(merged_df['valor_mercado_avg'])\n",
        "model_market = sm.OLS(merged_df['avg_points'], X_market).fit()\n",
        "\n",
        "# Ajuste del modelo basado en capacidad del estadio\n",
        "X_capacity = sm.add_constant(merged_df['capacity'])\n",
        "model_capacity = sm.OLS(merged_df['avg_points'], X_capacity).fit()\n",
        "\n",
        "# Evaluar R²\n",
        "r2_market = model_market.rsquared\n",
        "r2_capacity = model_capacity.rsquared\n",
        "\n",
        "print(\"R² del modelo basado en valor de mercado:\", r2_market)\n",
        "print(\"R² del modelo basado en capacidad del estadio:\", r2_capacity)\n"
      ],
      "metadata": {
        "colab": {
          "base_uri": "https://localhost:8080/"
        },
        "id": "WeHO_iSX9jPa",
        "outputId": "7fc87a5c-f3e4-4577-a15c-2278cab752eb"
      },
      "execution_count": null,
      "outputs": [
        {
          "output_type": "stream",
          "name": "stdout",
          "text": [
            "R² del modelo basado en valor de mercado: 0.8567914710152569\n",
            "R² del modelo basado en capacidad del estadio: 0.4810123200015636\n"
          ]
        }
      ]
    },
    {
      "cell_type": "code",
      "source": [
        "#RMSE (Root Mean Square Error)\n",
        "\n",
        "from sklearn.metrics import mean_squared_error\n",
        "import numpy as np\n",
        "\n",
        "# Predicciones del modelo basado en valor de mercado\n",
        "y_pred_market = model_market.predict(X_market)\n",
        "rmse_market = np.sqrt(mean_squared_error(merged_df['avg_points'], y_pred_market))\n",
        "\n",
        "# Predicciones del modelo basado en capacidad del estadio\n",
        "y_pred_capacity = model_capacity.predict(X_capacity)\n",
        "rmse_capacity = np.sqrt(mean_squared_error(merged_df['avg_points'], y_pred_capacity))\n",
        "\n",
        "print(\"RMSE del modelo basado en valor de mercado:\", rmse_market)\n",
        "print(\"RMSE del modelo basado en capacidad del estadio:\", rmse_capacity)\n"
      ],
      "metadata": {
        "colab": {
          "base_uri": "https://localhost:8080/"
        },
        "id": "SRiXxdGH9wZ6",
        "outputId": "86c1e574-71ad-42e9-9c28-485718757b90"
      },
      "execution_count": null,
      "outputs": [
        {
          "output_type": "stream",
          "name": "stdout",
          "text": [
            "RMSE del modelo basado en valor de mercado: 0.14360750710999592\n",
            "RMSE del modelo basado en capacidad del estadio: 0.27338282418268994\n"
          ]
        }
      ]
    },
    {
      "cell_type": "code",
      "source": [
        "#Validación Cruzada\n",
        "\n",
        "from sklearn.model_selection import cross_val_score\n",
        "from sklearn.linear_model import LinearRegression\n",
        "\n",
        "X_market_cv = merged_df[['valor_mercado_avg']]\n",
        "X_capacity_cv = merged_df[['capacity']]\n",
        "y_cv = merged_df['avg_points']\n",
        "\n",
        "# Modelo de regresión lineal\n",
        "lr = LinearRegression()\n",
        "\n",
        "# Validación cruzada para el modelo basado en valor de mercado\n",
        "scores_market = cross_val_score(lr, X_market_cv, y_cv, cv=5, scoring='r2')\n",
        "mean_score_market = np.mean(scores_market)\n",
        "\n",
        "# Validación cruzada para el modelo basado en capacidad del estadio\n",
        "scores_capacity = cross_val_score(lr, X_capacity_cv, y_cv, cv=5, scoring='r2')\n",
        "mean_score_capacity = np.mean(scores_capacity)\n",
        "\n",
        "print(\"R² promedio del modelo basado en valor de mercado (validación cruzada):\", mean_score_market)\n",
        "print(\"R² promedio del modelo basado en capacidad del estadio (validación cruzada):\", mean_score_capacity)\n"
      ],
      "metadata": {
        "colab": {
          "base_uri": "https://localhost:8080/"
        },
        "id": "-ua0W1tG9-kz",
        "outputId": "3a8e457d-b7d9-493f-9ae2-ba742ba6d763"
      },
      "execution_count": null,
      "outputs": [
        {
          "output_type": "stream",
          "name": "stdout",
          "text": [
            "R² promedio del modelo basado en valor de mercado (validación cruzada): -2.863311834926816\n",
            "R² promedio del modelo basado en capacidad del estadio (validación cruzada): -9.42499351043111\n"
          ]
        }
      ]
    }
  ]
}